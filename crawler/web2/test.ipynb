{
 "cells": [
  {
   "cell_type": "code",
   "execution_count": 31,
   "metadata": {},
   "outputs": [
    {
     "name": "stderr",
     "output_type": "stream",
     "text": [
      "/opt/anaconda3/lib/python3.7/site-packages/ipykernel_launcher.py:21: DeprecationWarning: use options instead of chrome_options\n"
     ]
    }
   ],
   "source": [
    "from monitor import monitor\n",
    "import sys\n",
    "import traceback\n",
    "import os\n",
    "from selenium import webdriver\n",
    "import time\n",
    "from bs4 import BeautifulSoup as bs\n",
    "from selenium.webdriver.chrome.options import Options\n",
    "import requests\n",
    "from tqdm import tqdm\n",
    "import pandas as pd\n",
    "from datetime import datetime \n",
    "from sqlalchemy import create_engine\n",
    "chrome_options=Options()\n",
    "chrome_options.add_argument('--no-sandbox')\n",
    "chrome_options.add_argument('--disable-dev-shm-usage')\n",
    "chrome_options.add_argument('--headless')\n",
    "#隱藏彈出視窗\n",
    "chrome_driver_path=\"/Users/chih-liangyang/Downloads/chromedriver\"\n",
    "#指定chromedriver在本機的位置\n",
    "driver = webdriver.Chrome(chrome_driver_path, chrome_options=chrome_options)\n",
    "url=\"https://www.cadtc.com.tw/new_embedded_linux/\"\n",
    "driver.get(url)\n",
    "time.sleep(5)\n",
    "title1=driver.find_elements_by_xpath(\"/html/body/div[4]/div[5]/h1\")[0].text\n",
    "date1=driver.find_elements_by_xpath(\"/html/body/div[@id='wrap']/div[@id='instant']/ol/li[2]/div[@class='instant-li-info']\")[0].text.replace('\\n', ' ')\n",
    "outline1=driver.find_elements_by_xpath(\"/html/body/div[@id='wrap']/div[@id='aiotcourse-panel']/div[@class='aiotcourse-info']\")[0].text.replace('\\n', ' ')\n",
    "goal1=driver.find_elements_by_xpath(\"/html/body/div[@id='wrap']/div[@id='about-panel']/div[@class='about']/ol/li[1]/p\")[0].text.replace('\\n', ' ')              \n",
    "time.sleep(2)\n",
    "#第2種風格網址第一種格式\n",
    "peaple1=driver.find_element_by_xpath(\"/html/body/div[4]/div[14]/div/ol/li[1]/ul\").text.replace('\\n', ' ')\n",
    "future1=driver.find_element_by_xpath(\"/html/body/div[4]/div[14]/div/ol/li[2]\").text.replace('\\n', ' ')\n"
   ]
  },
  {
   "cell_type": "code",
   "execution_count": 37,
   "metadata": {},
   "outputs": [
    {
     "data": {
      "text/plain": [
       "'Embedded Linux + Android + IoT'"
      ]
     },
     "execution_count": 37,
     "metadata": {},
     "output_type": "execute_result"
    }
   ],
   "source": [
    "title1"
   ]
  },
  {
   "cell_type": "code",
   "execution_count": null,
   "metadata": {},
   "outputs": [],
   "source": []
  }
 ],
 "metadata": {
  "kernelspec": {
   "display_name": "Python 3",
   "language": "python",
   "name": "python3"
  },
  "language_info": {
   "codemirror_mode": {
    "name": "ipython",
    "version": 3
   },
   "file_extension": ".py",
   "mimetype": "text/x-python",
   "name": "python",
   "nbconvert_exporter": "python",
   "pygments_lexer": "ipython3",
   "version": "3.7.6"
  }
 },
 "nbformat": 4,
 "nbformat_minor": 4
}
