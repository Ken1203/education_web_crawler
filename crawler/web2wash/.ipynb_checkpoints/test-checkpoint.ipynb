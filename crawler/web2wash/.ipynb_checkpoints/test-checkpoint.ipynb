{
 "cells": [
  {
   "cell_type": "code",
   "execution_count": 2,
   "metadata": {
    "scrolled": true
   },
   "outputs": [
    {
     "name": "stderr",
     "output_type": "stream",
     "text": [
      "/opt/anaconda3/lib/python3.7/site-packages/ipykernel_launcher.py:25: DeprecationWarning: use options instead of chrome_options\n",
      "100%|██████████| 29/29 [04:34<00:00,  9.47s/it]\n"
     ]
    }
   ],
   "source": [
    "from monitor import monitor\n",
    "import sys\n",
    "import traceback\n",
    "import os\n",
    "from selenium import webdriver\n",
    "import time\n",
    "from bs4 import BeautifulSoup as bs\n",
    "from selenium.webdriver.chrome.options import Options\n",
    "import requests\n",
    "from tqdm import tqdm\n",
    "import pandas as pd\n",
    "from datetime import datetime \n",
    "from sqlalchemy import create_engine\n",
    "import sqlalchemy\n",
    "import pymysql\n",
    "import numpy as np\n",
    "chrome_options=Options()\n",
    "chrome_options.add_argument('--no-sandbox')\n",
    "chrome_options.add_argument('--disable-dev-shm-usage')\n",
    "chrome_options.add_argument('--headless')\n",
    "#隱藏彈出視窗\n",
    "chrome_driver_path=\"/Users/chih-liangyang/Downloads/chromedriver\"\n",
    "#    chrome_driver_path=\"/root/chromedriver\"\n",
    "#指定chromedriver在本機的位置\n",
    "driver = webdriver.Chrome(chrome_driver_path, chrome_options=chrome_options)\n",
    "url=\"https://www.cadtc.com.tw/index.html\"\n",
    "driver.get(url)\n",
    "driver.implicitly_wait(30)\n",
    "try:\n",
    "    html = driver.page_source\n",
    "    soup=bs(html,\"lxml\")\n",
    "#================================抓取所有課程網址=======================================\n",
    "    raw_data=soup.select(\"#section03\")\n",
    "    urls=[]\n",
    "    for i in raw_data:\n",
    "        a=i.find_all('a')\n",
    "    for j in a:\n",
    "        urls.append(j.get('href'))\n",
    "except Exception as e:\n",
    "    now = datetime.now().strftime(\"[%Y%m%d %H:%M:%S]\")\n",
    "    with open(detailerr,'a+') as file:            \n",
    "        file.write(now+'爬取網址出錯誤為: '+str(e))\n",
    "        file.write('\\n')\n",
    "time_list=[]\n",
    "try:\n",
    "    for j in tqdm(range(len(urls))):\n",
    "        try:\n",
    "            driver.get(urls[j])\n",
    "            try:            \n",
    "                driver.implicitly_wait(5)\n",
    "                time=driver.find_elements_by_xpath(\"/html/body/div[@id='wrap']/div[@id='co2-panel']/div[@class='co2']/ol/li[4]\")[0].text.replace('開課時間\\n', '')\n",
    "            except:\n",
    "                try:\n",
    "                    driver.implicitly_wait(5)\n",
    "                    time=driver.find_elements_by_xpath(\"/html/body/div[@id='wrap']/div[@id='instant']/ol/li[3]/div[@class='instant-li-info']\")[0].text.replace('開課時間\\n', '')\n",
    "                except:\n",
    "                    try:\n",
    "                        driver.implicitly_wait(5)\n",
    "                        time=driver.find_elements_by_xpath(\"/html/body/table/tbody/tr[2]/td/table/tbody/tr/td[2]/table/tbody/tr[2]/td/table/tbody/tr[2]/td/p\")[0].text[:55].replace('\\n', '').replace('開課時間', '')\n",
    "                    except:\n",
    "                        driver.implicitly_wait(5)\n",
    "                        time=driver.find_elements_by_xpath(\"/html/body/table/tbody/tr[2]/td/table/tbody/tr/td[2]/table/tbody/tr[2]/td/table/tbody/tr[2]/td/table/tbody/tr/td\")[0].text[:75].replace('\\n', '').replace('開課時間', '')\n",
    "            time_list.append(time)\n",
    "        except:\n",
    "            driver.get('https://www.cadtc.com.tw/'+urls[j])#把沒加前面網址URL補上\n",
    "            try:\n",
    "                try:\n",
    "                    driver.implicitly_wait(5)\n",
    "                    time=driver.find_elements_by_xpath(\"/html/body/table/tbody/tr[2]/td/table/tbody/tr/td[2]/table/tbody/tr[2]/td/table/tbody/tr[2]/td/p\")[0].text[:57].replace('\\n', '').replace('開課時間', '')        \n",
    "                except:\n",
    "                    driver.implicitly_wait(5)\n",
    "                    time=driver.find_elements_by_xpath(\"/html/body/div[2]/div/div[3]/div[3]/div[1]/div/p\")[0].text[:57].replace('\\n', '').replace('開課時間', '')                        \n",
    "            except:\n",
    "                try:\n",
    "                    driver.implicitly_wait(5)\n",
    "                    time=driver.find_elements_by_xpath(\"/html/body/div[2]/div/div[3]/div[2]/div[1]/div/p\")[0].text[:57].replace('\\n', '').replace('開課時間', '')        \n",
    "                except:            \n",
    "                    driver.implicitly_wait(5)\n",
    "                    time=driver.find_elements_by_xpath(\"/html/body/table/tbody/tr[2]/td/table/tbody/tr/td[2]/table/tbody/tr[2]/td/table/tbody/tr[2]/td/table/tbody/tr/td\")[0].text[:57].replace('\\n', '').replace('開課時間', '')\n",
    "\n",
    "            time_list.append(time)\n",
    "except:\n",
    "    now = datetime.now().strftime(\"[%Y%m%d %H:%M:%S]\")\n",
    "    with open(detailerr,'a+') as file:            \n",
    "        file.write(now+'爬取時間出錯誤可能有新格式,錯誤為: '+str(e))\n",
    "        file.write('\\n')\n",
    "finally:   \n",
    "    driver.quit()\n",
    "        "
   ]
  },
  {
   "cell_type": "code",
   "execution_count": 17,
   "metadata": {},
   "outputs": [
    {
     "data": {
      "text/plain": [
       "['https://www.cadtc.com.tw/idbsi/index.html',\n",
       " 'https://www.cadtc.com.tw/idbsi/arm.html',\n",
       " 'https://www.cadtc.com.tw/new_embedded_linux/',\n",
       " 'https://www.cadtc.com.tw/embedded-android-development-training-program/index.html',\n",
       " 'https://www.cadtc.com.tw/embedded_linux/index.html',\n",
       " 'https://www.cadtc.com.tw/device_driver/index.html',\n",
       " 'https://www.cadtc.com.tw/android/android-framework-porting.html',\n",
       " 'https://cadtc.com.tw/android/android-hal-porting.html',\n",
       " 'm4/arm-Things-wearable-system.html',\n",
       " 'm4/index.html',\n",
       " 'm4/arm_real_time.html',\n",
       " 'm4/iot.html',\n",
       " 'https://www.cadtc.com.tw/bluetooth/',\n",
       " 'https://www.cadtc.com.tw/lora/index.html',\n",
       " 'm4/arm-usb.html',\n",
       " 'pcb/index.html',\n",
       " 'ros/index.html',\n",
       " 'https://www.cadtc.com.tw/android/rpa.html',\n",
       " 'android/opencv.html',\n",
       " 'android/python.html',\n",
       " 'https://cadtc.com.tw/android/python-analytics-learning.html',\n",
       " 'https://www.cadtc.com.tw/android/deeplearning.html',\n",
       " 'https://www.cadtc.com.tw/android/python-bot.html',\n",
       " 'https://www.cadtc.com.tw/module/linux-system-management.html',\n",
       " 'https://www.cadtc.com.tw/module/linux-os-programming.html',\n",
       " 'https://www.cadtc.com.tw/module/c-programming-language.html',\n",
       " 'https://www.cadtc.com.tw/module/java.html',\n",
       " 'https://www.cadtc.com.tw/android/android-app-cloud.html',\n",
       " 'https://www.cadtc.com.tw/android/android-app-design.html']"
      ]
     },
     "execution_count": 17,
     "metadata": {},
     "output_type": "execute_result"
    }
   ],
   "source": [
    "urls"
   ]
  },
  {
   "cell_type": "code",
   "execution_count": 2,
   "metadata": {
    "scrolled": false
   },
   "outputs": [
    {
     "data": {
      "text/plain": [
       "['週一至五白天班 AM9:30至PM4:30',\n",
       " '週一至五白天班 AM8:30至PM4:30',\n",
       " '週一至五白天班 AM9:30至PM4:30',\n",
       " '‧109年9月6日至110年1月31日(週日全天班AM9:30至PM5:30)‧109年10月7',\n",
       " '‧109年8月16日至109年9月20日(週日全天班 AM9:30至PM5:30)‧109年11',\n",
       " '‧109年9月27日至109年10月18日(週日全天班 AM9:30至PM5:30)‧110年1',\n",
       " '•109年8月15日至109年8月22日      (週六全天班 AM9:30至PM5:30)•',\n",
       " '‧109年10月17日至109年10月24日(週六全天班 AM9:30至PM4:30)相關課程：',\n",
       " '‧109年8月29日至109年12月5日(週六全天班 AM9:30至PM5:30)‧109年11月8',\n",
       " '‧109年8月17日至109年9月2日(平日上午班\\u3000AM8:30至PM12:30)‧109年8月29',\n",
       " ' ‧109年9月3日至109年9月8日(二四五上午班\\u3000AM8:30至PM12:30)‧109年10月',\n",
       " '‧109年8月30日至109年9月6日(週日全天班\\u3000AM9:30至PM5:30)工業局補助： ARM',\n",
       " '‧109年9月9日至109年9月11日  (三四五上午班 AM8:30至PM12:30)‧109',\n",
       " '‧109年9月13日至109年9月20日(週日全天班\\u3000AM9:30至PM5:30)‧109年9月',\n",
       " '‧109年8月30日至109年9月6日(週日全天班\\u3000AM9:30至PM5:30)‧109年9月21日',\n",
       " '‧109年7月31日至109年8月26日(三四五上午班\\u3000AM8:30至PM12:30)‧109年10',\n",
       " '‧109年7月25日至109年8月29日 (工業局補助)  (週六全天班 AM9:30至PM5:30)',\n",
       " '‧ 109年8月29日至109年10月17日(週六全天班\\u3000AM9:30至PM5:30)工業局補助',\n",
       " '‧109年7月25日至109年8月15日 (工業局補助)(週六全天班AM9:30至PM5:30)工業',\n",
       " '‧109年9月6日至109年10月4日(週日全天班AM9:30至PM5:30)工業局補助: Pyth',\n",
       " '‧109年9月13日至109年9月27日(週日全天班AM9:30至PM5:30)工業局補助: Python AI深度學習實戰工業局補助',\n",
       " '‧109年8月2日至109年8月16日  (工業局補助)(週日全天班AM9:30至PM5:30)相關課程: Python資料分析與機器學',\n",
       " '‧109年10月11日至109年10月25日(週日全天班AM9:30至PM5:30)相關課程: Python資料分析與機器學習實戰工業',\n",
       " '‧獨家ARM Cortex-A72 六核開發板實作‧109年9月2日至109年9月3日(三四白天班 AM9:30至PM4:30)‧10',\n",
       " '‧獨家ARM Cortex-A72 六核開發板實作‧109年9月6日至109年10月11日(週日全天班 AM9:30至PM5:30)‧',\n",
       " '‧獨家ARM Cortex-A72 六核開發板實作‧109年8月1日至109年8月9日(週六日全天班\\u3000AM9:30至PM5:30)‧1',\n",
       " '‧109年9月27日至109年10月18日(週日全天班 AM9:30至PM5:30)相關課程: 嵌入式Android物聯網人才養成相關',\n",
       " '‧ 109年9月27日至109年12月27日(週日全天班\\u3000AM9:30至PM5:30)工業局補助',\n",
       " '‧ 109年10月25日至109年11月22日(週日全天班\\u3000AM9:30至PM5:30)※務必攜']"
      ]
     },
     "execution_count": 2,
     "metadata": {},
     "output_type": "execute_result"
    }
   ],
   "source": [
    "time_list"
   ]
  },
  {
   "cell_type": "code",
   "execution_count": 54,
   "metadata": {},
   "outputs": [
    {
     "data": {
      "text/plain": [
       "29"
      ]
     },
     "execution_count": 54,
     "metadata": {},
     "output_type": "execute_result"
    }
   ],
   "source": [
    "len(time_list)"
   ]
  },
  {
   "cell_type": "code",
   "execution_count": 4,
   "metadata": {},
   "outputs": [],
   "source": [
    "weekday_list=[]\n",
    "weekends_list=[]\n",
    "for i in range(len(time_list)):\n",
    "    if \"一\" in time_list[i] or \"二\" in time_list[i] or \"三\" in time_list[i] or \"四\" in time_list[i] or \"五\" in time_list[i] or \"平\" in time_list[i]:\n",
    "        weekday_list.append(True)\n",
    "        if \"週六\" in time_list[i] or \"週日\" in time_list[i]:\n",
    "             weekends_list.append(True)\n",
    "        else:\n",
    "            weekends_list.append(False)\n",
    "    elif \"週六\" in time_list[i] or \"週日\" in time_list[i]:\n",
    "        weekday_list.append(False)\n",
    "        weekends_list.append(True)\n",
    "    else:\n",
    "        weekday_list.append(False)\n",
    "        weekends_list.append(False)"
   ]
  },
  {
   "cell_type": "code",
   "execution_count": 5,
   "metadata": {},
   "outputs": [
    {
     "name": "stdout",
     "output_type": "stream",
     "text": [
      "[True, True, True, False, False, False, False, False, False, True, True, False, True, False, False, True, False, False, False, False, False, False, False, True, False, False, False, False, False] [False, False, False, True, True, True, True, True, True, False, False, True, False, True, True, False, True, True, True, True, True, True, True, False, True, True, True, True, True]\n"
     ]
    }
   ],
   "source": [
    "print(weekday_list,weekends_list)"
   ]
  },
  {
   "cell_type": "code",
   "execution_count": 3,
   "metadata": {},
   "outputs": [],
   "source": [
    "time_split_list=[time_list[j].split(\"班\")[1].split(\")\")[0].split(\"至\") for j in range(len(time_list))]"
   ]
  },
  {
   "cell_type": "code",
   "execution_count": 18,
   "metadata": {},
   "outputs": [
    {
     "data": {
      "text/plain": [
       "' AM9:30'"
      ]
     },
     "execution_count": 18,
     "metadata": {},
     "output_type": "execute_result"
    }
   ],
   "source": [
    "time_split_list[0][0]"
   ]
  },
  {
   "cell_type": "code",
   "execution_count": 4,
   "metadata": {},
   "outputs": [],
   "source": [
    "start_time_list=[]\n",
    "end_time_list=[]\n",
    "for w in range(len(time_split_list)):\n",
    "    start_time_list.append(time_split_list[w][0].replace('\\u3000', ''))\n",
    "    end_time_list.append(time_split_list[w][1].replace('至', ''))"
   ]
  },
  {
   "cell_type": "code",
   "execution_count": 5,
   "metadata": {},
   "outputs": [
    {
     "name": "stdout",
     "output_type": "stream",
     "text": [
      "[' AM9:30', ' AM8:30', ' AM9:30', 'AM9:30', ' AM9:30', ' AM9:30', ' AM9:30', ' AM9:30', ' AM9:30', 'AM8:30', 'AM8:30', 'AM9:30', ' AM8:30', 'AM9:30', 'AM9:30', 'AM8:30', ' AM9:30', 'AM9:30', 'AM9:30', 'AM9:30', 'AM9:30', 'AM9:30', 'AM9:30', ' AM9:30', ' AM9:30', 'AM9:30', ' AM9:30', 'AM9:30', 'AM9:30'] ['PM4:30', 'PM4:30', 'PM4:30', 'PM5:30', 'PM5:30', 'PM5:30', 'PM5:30', 'PM4:30', 'PM5:30', 'PM12:30', 'PM12:30', 'PM5:30', 'PM12:30', 'PM5:30', 'PM5:30', 'PM12:30', 'PM5:30', 'PM5:30', 'PM5:30', 'PM5:30', 'PM5:30', 'PM5:30', 'PM5:30', 'PM4:30', 'PM5:30', 'PM5:30', 'PM5:30', 'PM5:30', 'PM5:30']\n"
     ]
    }
   ],
   "source": [
    "print(start_time_list,end_time_list)"
   ]
  },
  {
   "cell_type": "code",
   "execution_count": 18,
   "metadata": {},
   "outputs": [
    {
     "ename": "AttributeError",
     "evalue": "'str' object has no attribute 'date'",
     "output_type": "error",
     "traceback": [
      "\u001b[0;31m---------------------------------------------------------------------------\u001b[0m",
      "\u001b[0;31mAttributeError\u001b[0m                            Traceback (most recent call last)",
      "\u001b[0;32m<ipython-input-18-33b730604abe>\u001b[0m in \u001b[0;36m<module>\u001b[0;34m\u001b[0m\n\u001b[1;32m      1\u001b[0m \u001b[0mb\u001b[0m\u001b[0;34m=\u001b[0m\u001b[0mend_time_list\u001b[0m\u001b[0;34m[\u001b[0m\u001b[0;36m6\u001b[0m\u001b[0;34m]\u001b[0m\u001b[0;34m\u001b[0m\u001b[0;34m\u001b[0m\u001b[0m\n\u001b[0;32m----> 2\u001b[0;31m \u001b[0ma\u001b[0m\u001b[0;34m=\u001b[0m\u001b[0mdatetime\u001b[0m\u001b[0;34m.\u001b[0m\u001b[0mstrftime\u001b[0m\u001b[0;34m(\u001b[0m\u001b[0mb\u001b[0m\u001b[0;34m.\u001b[0m\u001b[0mdate\u001b[0m\u001b[0;34m(\u001b[0m\u001b[0;34m)\u001b[0m\u001b[0;34m,\u001b[0m\u001b[0;34m' %p%I:%MM'\u001b[0m\u001b[0;34m)\u001b[0m\u001b[0;34m\u001b[0m\u001b[0;34m\u001b[0m\u001b[0m\n\u001b[0m\u001b[1;32m      3\u001b[0m \u001b[0ma\u001b[0m\u001b[0;34m\u001b[0m\u001b[0;34m\u001b[0m\u001b[0m\n",
      "\u001b[0;31mAttributeError\u001b[0m: 'str' object has no attribute 'date'"
     ]
    }
   ],
   "source": [
    "b=end_time_list[6]\n",
    "a=datetime.strftime(b.date(),' %p%I:%MM')\n",
    "a"
   ]
  },
  {
   "cell_type": "code",
   "execution_count": null,
   "metadata": {},
   "outputs": [],
   "source": []
  }
 ],
 "metadata": {
  "kernelspec": {
   "display_name": "Python 3",
   "language": "python",
   "name": "python3"
  },
  "language_info": {
   "codemirror_mode": {
    "name": "ipython",
    "version": 3
   },
   "file_extension": ".py",
   "mimetype": "text/x-python",
   "name": "python",
   "nbconvert_exporter": "python",
   "pygments_lexer": "ipython3",
   "version": "3.7.6"
  }
 },
 "nbformat": 4,
 "nbformat_minor": 4
}
